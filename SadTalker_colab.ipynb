{
  "cells": [
    {
      "cell_type": "markdown",
      "metadata": {
        "id": "view-in-github",
        "colab_type": "text"
      },
      "source": [
        "<a href=\"https://colab.research.google.com/github/jahanzaibrao-dev/transfromers-lib-dev/blob/main/SadTalker_colab.ipynb\" target=\"_parent\"><img src=\"https://colab.research.google.com/assets/colab-badge.svg\" alt=\"Open In Colab\"/></a>"
      ]
    },
    {
      "cell_type": "code",
      "execution_count": 2,
      "metadata": {
        "id": "VjYy0F2gZIPR",
        "colab": {
          "base_uri": "https://localhost:8080/"
        },
        "outputId": "eb134afd-f0e2-4fed-c52b-309099c2d3f6"
      },
      "outputs": [
        {
          "output_type": "stream",
          "name": "stdout",
          "text": [
            "/content\n",
            "fatal: destination path 'SadTalker' already exists and is not an empty directory.\n",
            "/content/SadTalker\n",
            "aria2 is already the newest version (1.36.0-1).\n",
            "0 upgraded, 0 newly installed, 0 to remove and 35 not upgraded.\n",
            "\n",
            "Download Results:\n",
            "gid   |stat|avg speed  |path/URI\n",
            "======+====+===========+=======================================================\n",
            "74d228|\u001b[1;32mOK\u001b[0m  |       0B/s|/content/SadTalker/checkpoints/SadTalker_V0.0.2_256.safetensors\n",
            "\n",
            "Status Legend:\n",
            "(OK):download completed.\n",
            "\n",
            "Download Results:\n",
            "gid   |stat|avg speed  |path/URI\n",
            "======+====+===========+=======================================================\n",
            "d6649c|\u001b[1;32mOK\u001b[0m  |       0B/s|/content/SadTalker/checkpoints/SadTalker_V0.0.2_512.safetensors\n",
            "\n",
            "Status Legend:\n",
            "(OK):download completed.\n",
            "\n",
            "Download Results:\n",
            "gid   |stat|avg speed  |path/URI\n",
            "======+====+===========+=======================================================\n",
            "9e6a3a|\u001b[1;32mOK\u001b[0m  |       0B/s|/content/SadTalker/checkpoints/mapping_00109-model.pth.tar\n",
            "\n",
            "Status Legend:\n",
            "(OK):download completed.\n",
            "\n",
            "Download Results:\n",
            "gid   |stat|avg speed  |path/URI\n",
            "======+====+===========+=======================================================\n",
            "09efc1|\u001b[1;32mOK\u001b[0m  |       0B/s|/content/SadTalker/checkpoints/mapping_00229-model.pth.tar\n",
            "\n",
            "Status Legend:\n",
            "(OK):download completed.\n",
            "\n",
            "Download Results:\n",
            "gid   |stat|avg speed  |path/URI\n",
            "======+====+===========+=======================================================\n",
            "1a0bde|\u001b[1;32mOK\u001b[0m  |       0B/s|/content/SadTalker/gfpgan/weights/GFPGANv1.4.pth\n",
            "\n",
            "Status Legend:\n",
            "(OK):download completed.\n",
            "\n",
            "Download Results:\n",
            "gid   |stat|avg speed  |path/URI\n",
            "======+====+===========+=======================================================\n",
            "e72b6f|\u001b[1;32mOK\u001b[0m  |       0B/s|/content/SadTalker/gfpgan/weights/alignment_WFLW_4HG.pth\n",
            "\n",
            "Status Legend:\n",
            "(OK):download completed.\n",
            "\n",
            "Download Results:\n",
            "gid   |stat|avg speed  |path/URI\n",
            "======+====+===========+=======================================================\n",
            "027916|\u001b[1;32mOK\u001b[0m  |       0B/s|/content/SadTalker/gfpgan/weights/detection_Resnet50_Final.pth\n",
            "\n",
            "Status Legend:\n",
            "(OK):download completed.\n",
            "\n",
            "Download Results:\n",
            "gid   |stat|avg speed  |path/URI\n",
            "======+====+===========+=======================================================\n",
            "79ebe7|\u001b[1;32mOK\u001b[0m  |       0B/s|/content/SadTalker/gfpgan/weights/parsing_parsenet.pth\n",
            "\n",
            "Status Legend:\n",
            "(OK):download completed.\n",
            "Traceback (most recent call last):\n",
            "  File \"/content/SadTalker/app_sadtalker.py\", line 3, in <module>\n",
            "    from src.gradio_demo import SadTalker  \n",
            "    ^^^^^^^^^^^^^^^^^^^^^^^^^^^^^^^^^^^^^\n",
            "  File \"/content/SadTalker/src/gradio_demo.py\", line 3, in <module>\n",
            "    from src.utils.preprocess import CropAndExtract\n",
            "  File \"/content/SadTalker/src/utils/preprocess.py\", line 9, in <module>\n",
            "    from src.face3d.util.preprocess import align_img\n",
            "  File \"/content/SadTalker/src/face3d/util/preprocess.py\", line 12, in <module>\n",
            "    warnings.filterwarnings(\"ignore\", category=np.VisibleDeprecationWarning) \n",
            "                                               ^^^^^^^^^^^^^^^^^^^^^^^^^^^^\n",
            "  File \"/usr/local/lib/python3.11/dist-packages/numpy/__init__.py\", line 410, in __getattr__\n",
            "    raise AttributeError(\"module {!r} has no attribute \"\n",
            "AttributeError: module 'numpy' has no attribute 'VisibleDeprecationWarning'\n"
          ]
        }
      ],
      "source": [
        "%cd /content\n",
        "# import os\n",
        "# os.environ[\"COQUI_TOS_AGREED\"] = \"1\"\n",
        "# !pip install -q TTS==0.17.8\n",
        "!git clone -b v1.1 https://github.com/camenduru/SadTalker\n",
        "!pip install -q gradio safetensors kornia facexlib yacs gfpgan\n",
        "%cd /content/SadTalker\n",
        "\n",
        "!apt -y install -qq aria2\n",
        "!aria2c --console-log-level=error -c -x 16 -s 16 -k 1M https://huggingface.co/camenduru/SadTalker/resolve/main/new/checkpoints/SadTalker_V0.0.2_256.safetensors -d /content/SadTalker/checkpoints -o SadTalker_V0.0.2_256.safetensors\n",
        "!aria2c --console-log-level=error -c -x 16 -s 16 -k 1M https://huggingface.co/camenduru/SadTalker/resolve/main/new/checkpoints/SadTalker_V0.0.2_512.safetensors -d /content/SadTalker/checkpoints -o SadTalker_V0.0.2_512.safetensors\n",
        "!aria2c --console-log-level=error -c -x 16 -s 16 -k 1M https://huggingface.co/camenduru/SadTalker/resolve/main/new/checkpoints/mapping_00109-model.pth.tar -d /content/SadTalker/checkpoints -o mapping_00109-model.pth.tar\n",
        "!aria2c --console-log-level=error -c -x 16 -s 16 -k 1M https://huggingface.co/camenduru/SadTalker/resolve/main/new/checkpoints/mapping_00229-model.pth.tar -d /content/SadTalker/checkpoints -o mapping_00229-model.pth.tar\n",
        "!aria2c --console-log-level=error -c -x 16 -s 16 -k 1M https://huggingface.co/camenduru/SadTalker/resolve/main/new/gfpgan/weights/GFPGANv1.4.pth -d /content/SadTalker/gfpgan/weights -o GFPGANv1.4.pth\n",
        "!aria2c --console-log-level=error -c -x 16 -s 16 -k 1M https://huggingface.co/camenduru/SadTalker/resolve/main/new/gfpgan/weights/alignment_WFLW_4HG.pth -d /content/SadTalker/gfpgan/weights -o alignment_WFLW_4HG.pth\n",
        "!aria2c --console-log-level=error -c -x 16 -s 16 -k 1M https://huggingface.co/camenduru/SadTalker/resolve/main/new/gfpgan/weights/detection_Resnet50_Final.pth -d /content/SadTalker/gfpgan/weights -o detection_Resnet50_Final.pth\n",
        "!aria2c --console-log-level=error -c -x 16 -s 16 -k 1M https://huggingface.co/camenduru/SadTalker/resolve/main/new/gfpgan/weights/parsing_parsenet.pth -d /content/SadTalker/gfpgan/weights -o parsing_parsenet.pth\n",
        "\n",
        "!python app_sadtalker.py"
      ]
    }
  ],
  "metadata": {
    "accelerator": "GPU",
    "colab": {
      "gpuType": "T4",
      "provenance": [],
      "include_colab_link": true
    },
    "kernelspec": {
      "display_name": "Python 3",
      "name": "python3"
    },
    "language_info": {
      "name": "python"
    }
  },
  "nbformat": 4,
  "nbformat_minor": 0
}